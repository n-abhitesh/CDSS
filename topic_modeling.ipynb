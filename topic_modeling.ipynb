{
 "cells": [
  {
   "cell_type": "markdown",
   "metadata": {},
   "source": [
    "### In this notebook we will perform the word embedding & topic modeling & Cosine Similarity\n",
    "\n",
    "***we merged the **three** chapters to perform the topic modeling, in order to perform cosine similarity to select which chapter the new input should go with.***"
   ]
  },
  {
   "cell_type": "code",
   "execution_count": 30,
   "metadata": {},
   "outputs": [],
   "source": [
    "import pandas as pd\n",
    "import numpy as np\n",
    "import pickle\n",
    "\n",
    "# gensim\n",
    "from gensim import corpora, models, similarities, matutils\n",
    "\n",
    "# sklearn\n",
    "from sklearn.feature_extraction.text import CountVectorizer, TfidfVectorizer\n",
    "from sklearn.decomposition import TruncatedSVD\n",
    "from sklearn.decomposition import NMF"
   ]
  },
  {
   "cell_type": "markdown",
   "metadata": {},
   "source": [
    "### Read the data and pickle file"
   ]
  },
  {
   "cell_type": "code",
   "execution_count": 31,
   "metadata": {},
   "outputs": [],
   "source": [
    "df02 = pd.read_csv('3_chapters.csv')"
   ]
  },
  {
   "cell_type": "code",
   "execution_count": 32,
   "metadata": {},
   "outputs": [],
   "source": [
    "# reading the stop words list with pickle\n",
    "with open ('stop_words.ob', 'rb') as fp:\n",
    "    stop_words = pickle.load(fp)"
   ]
  },
  {
   "cell_type": "code",
   "execution_count": 33,
   "metadata": {},
   "outputs": [
    {
     "data": {
      "text/plain": [
       "Index(['string_values'], dtype='object')"
      ]
     },
     "execution_count": 33,
     "metadata": {},
     "output_type": "execute_result"
    }
   ],
   "source": [
    "df02.columns"
   ]
  },
  {
   "cell_type": "code",
   "execution_count": 34,
   "metadata": {},
   "outputs": [],
   "source": [
    "# Declare a list that is to be converted into a column\n",
    "ch_no = ['musculoskeletal','ear_nose', 'respiratory']\n",
    " \n",
    "# Using 'ch_no' as the column name\n",
    "# and equating it to the list\n",
    "df02['Ch_No'] = ch_no"
   ]
  },
  {
   "cell_type": "code",
   "execution_count": 35,
   "metadata": {},
   "outputs": [
    {
     "data": {
      "text/html": [
       "<div>\n",
       "<style scoped>\n",
       "    .dataframe tbody tr th:only-of-type {\n",
       "        vertical-align: middle;\n",
       "    }\n",
       "\n",
       "    .dataframe tbody tr th {\n",
       "        vertical-align: top;\n",
       "    }\n",
       "\n",
       "    .dataframe thead th {\n",
       "        text-align: right;\n",
       "    }\n",
       "</style>\n",
       "<table border=\"1\" class=\"dataframe\">\n",
       "  <thead>\n",
       "    <tr style=\"text-align: right;\">\n",
       "      <th></th>\n",
       "      <th>string_values</th>\n",
       "      <th>Ch_No</th>\n",
       "    </tr>\n",
       "  </thead>\n",
       "  <tbody>\n",
       "    <tr>\n",
       "      <th>musculoskeletal</th>\n",
       "      <td>introduction bone muscle ligament musculos sh...</td>\n",
       "      <td>musculoskeletal</td>\n",
       "    </tr>\n",
       "    <tr>\n",
       "      <th>ear_nose</th>\n",
       "      <td>introduction ear nose rarely prove except epi...</td>\n",
       "      <td>ear_nose</td>\n",
       "    </tr>\n",
       "    <tr>\n",
       "      <th>respiratory</th>\n",
       "      <td>introduction distributes addition oxygen remov...</td>\n",
       "      <td>respiratory</td>\n",
       "    </tr>\n",
       "  </tbody>\n",
       "</table>\n",
       "</div>"
      ],
      "text/plain": [
       "                                                     string_values  \\\n",
       "musculoskeletal   introduction bone muscle ligament musculos sh...   \n",
       "ear_nose          introduction ear nose rarely prove except epi...   \n",
       "respiratory      introduction distributes addition oxygen remov...   \n",
       "\n",
       "                           Ch_No  \n",
       "musculoskeletal  musculoskeletal  \n",
       "ear_nose                ear_nose  \n",
       "respiratory          respiratory  "
      ]
     },
     "execution_count": 35,
     "metadata": {},
     "output_type": "execute_result"
    }
   ],
   "source": [
    "df02"
   ]
  },
  {
   "cell_type": "markdown",
   "metadata": {},
   "source": [
    "### Word Embedding"
   ]
  },
  {
   "cell_type": "code",
   "execution_count": 36,
   "metadata": {},
   "outputs": [
    {
     "data": {
      "text/plain": [
       "musculoskeletal     introduction bone muscle ligament musculos sh...\n",
       "ear_nose            introduction ear nose rarely prove except epi...\n",
       "respiratory        introduction distributes addition oxygen remov...\n",
       "Name: string_values, dtype: object"
      ]
     },
     "execution_count": 36,
     "metadata": {},
     "output_type": "execute_result"
    }
   ],
   "source": [
    "df02['string_values']"
   ]
  },
  {
   "cell_type": "code",
   "execution_count": 37,
   "metadata": {},
   "outputs": [
    {
     "name": "stderr",
     "output_type": "stream",
     "text": [
      "C:\\Users\\nmman\\AppData\\Local\\Packages\\PythonSoftwareFoundation.Python.3.11_qbz5n2kfra8p0\\LocalCache\\local-packages\\Python311\\site-packages\\sklearn\\feature_extraction\\text.py:408: UserWarning: Your stop_words may be inconsistent with your preprocessing. Tokenizing the stop words generated tokens ['14', 'based', 'children', 'db', 'ground', 'information', 'inspiration', 'listlessness', 'seal', 'segment'] not in stop_words.\n",
      "  warnings.warn(\n"
     ]
    }
   ],
   "source": [
    "# Create a CountVectorizer for parsing/counting words\n",
    "count_vectorizer = CountVectorizer(stop_words=stop_words)\n",
    "\n",
    "doc_word_cv = count_vectorizer.fit_transform(df02['string_values'])"
   ]
  },
  {
   "cell_type": "code",
   "execution_count": 38,
   "metadata": {},
   "outputs": [
    {
     "data": {
      "text/html": [
       "<div>\n",
       "<style scoped>\n",
       "    .dataframe tbody tr th:only-of-type {\n",
       "        vertical-align: middle;\n",
       "    }\n",
       "\n",
       "    .dataframe tbody tr th {\n",
       "        vertical-align: top;\n",
       "    }\n",
       "\n",
       "    .dataframe thead th {\n",
       "        text-align: right;\n",
       "    }\n",
       "</style>\n",
       "<table border=\"1\" class=\"dataframe\">\n",
       "  <thead>\n",
       "    <tr style=\"text-align: right;\">\n",
       "      <th></th>\n",
       "      <th>aap</th>\n",
       "      <th>abdomen</th>\n",
       "      <th>abdu</th>\n",
       "      <th>abduct</th>\n",
       "      <th>abducted</th>\n",
       "      <th>abducting</th>\n",
       "      <th>abduction</th>\n",
       "      <th>abductor</th>\n",
       "      <th>abgs</th>\n",
       "      <th>ability</th>\n",
       "      <th>...</th>\n",
       "      <th>ysis</th>\n",
       "      <th>ysitis</th>\n",
       "      <th>zealand</th>\n",
       "      <th>zed</th>\n",
       "      <th>zheng</th>\n",
       "      <th>zinc</th>\n",
       "      <th>zone</th>\n",
       "      <th>zoster</th>\n",
       "      <th>zygote</th>\n",
       "      <th>µm</th>\n",
       "    </tr>\n",
       "    <tr>\n",
       "      <th>Ch_No</th>\n",
       "      <th></th>\n",
       "      <th></th>\n",
       "      <th></th>\n",
       "      <th></th>\n",
       "      <th></th>\n",
       "      <th></th>\n",
       "      <th></th>\n",
       "      <th></th>\n",
       "      <th></th>\n",
       "      <th></th>\n",
       "      <th></th>\n",
       "      <th></th>\n",
       "      <th></th>\n",
       "      <th></th>\n",
       "      <th></th>\n",
       "      <th></th>\n",
       "      <th></th>\n",
       "      <th></th>\n",
       "      <th></th>\n",
       "      <th></th>\n",
       "      <th></th>\n",
       "    </tr>\n",
       "  </thead>\n",
       "  <tbody>\n",
       "    <tr>\n",
       "      <th>musculoskeletal</th>\n",
       "      <td>0</td>\n",
       "      <td>1</td>\n",
       "      <td>1</td>\n",
       "      <td>2</td>\n",
       "      <td>2</td>\n",
       "      <td>2</td>\n",
       "      <td>10</td>\n",
       "      <td>1</td>\n",
       "      <td>0</td>\n",
       "      <td>2</td>\n",
       "      <td>...</td>\n",
       "      <td>1</td>\n",
       "      <td>1</td>\n",
       "      <td>1</td>\n",
       "      <td>0</td>\n",
       "      <td>0</td>\n",
       "      <td>0</td>\n",
       "      <td>0</td>\n",
       "      <td>0</td>\n",
       "      <td>1</td>\n",
       "      <td>0</td>\n",
       "    </tr>\n",
       "    <tr>\n",
       "      <th>ear_nose</th>\n",
       "      <td>0</td>\n",
       "      <td>0</td>\n",
       "      <td>0</td>\n",
       "      <td>0</td>\n",
       "      <td>1</td>\n",
       "      <td>0</td>\n",
       "      <td>0</td>\n",
       "      <td>0</td>\n",
       "      <td>0</td>\n",
       "      <td>2</td>\n",
       "      <td>...</td>\n",
       "      <td>1</td>\n",
       "      <td>0</td>\n",
       "      <td>0</td>\n",
       "      <td>1</td>\n",
       "      <td>0</td>\n",
       "      <td>0</td>\n",
       "      <td>0</td>\n",
       "      <td>1</td>\n",
       "      <td>0</td>\n",
       "      <td>0</td>\n",
       "    </tr>\n",
       "    <tr>\n",
       "      <th>respiratory</th>\n",
       "      <td>1</td>\n",
       "      <td>1</td>\n",
       "      <td>0</td>\n",
       "      <td>0</td>\n",
       "      <td>0</td>\n",
       "      <td>0</td>\n",
       "      <td>0</td>\n",
       "      <td>0</td>\n",
       "      <td>1</td>\n",
       "      <td>5</td>\n",
       "      <td>...</td>\n",
       "      <td>0</td>\n",
       "      <td>0</td>\n",
       "      <td>1</td>\n",
       "      <td>1</td>\n",
       "      <td>1</td>\n",
       "      <td>1</td>\n",
       "      <td>6</td>\n",
       "      <td>0</td>\n",
       "      <td>0</td>\n",
       "      <td>5</td>\n",
       "    </tr>\n",
       "  </tbody>\n",
       "</table>\n",
       "<p>3 rows × 5834 columns</p>\n",
       "</div>"
      ],
      "text/plain": [
       "                 aap  abdomen  abdu  abduct  abducted  abducting  abduction  \\\n",
       "Ch_No                                                                         \n",
       "musculoskeletal    0        1     1       2         2          2         10   \n",
       "ear_nose           0        0     0       0         1          0          0   \n",
       "respiratory        1        1     0       0         0          0          0   \n",
       "\n",
       "                 abductor  abgs  ability  ...  ysis  ysitis  zealand  zed  \\\n",
       "Ch_No                                     ...                               \n",
       "musculoskeletal         1     0        2  ...     1       1        1    0   \n",
       "ear_nose                0     0        2  ...     1       0        0    1   \n",
       "respiratory             0     1        5  ...     0       0        1    1   \n",
       "\n",
       "                 zheng  zinc  zone  zoster  zygote  µm  \n",
       "Ch_No                                                   \n",
       "musculoskeletal      0     0     0       0       1   0  \n",
       "ear_nose             0     0     0       1       0   0  \n",
       "respiratory          1     1     6       0       0   5  \n",
       "\n",
       "[3 rows x 5834 columns]"
      ]
     },
     "execution_count": 38,
     "metadata": {},
     "output_type": "execute_result"
    }
   ],
   "source": [
    "pd.DataFrame(doc_word_cv.toarray(), index=df02['Ch_No'], columns = count_vectorizer.get_feature_names_out()).head()"
   ]
  },
  {
   "cell_type": "code",
   "execution_count": 39,
   "metadata": {},
   "outputs": [
    {
     "name": "stderr",
     "output_type": "stream",
     "text": [
      "C:\\Users\\nmman\\AppData\\Local\\Packages\\PythonSoftwareFoundation.Python.3.11_qbz5n2kfra8p0\\LocalCache\\local-packages\\Python311\\site-packages\\sklearn\\feature_extraction\\text.py:408: UserWarning: Your stop_words may be inconsistent with your preprocessing. Tokenizing the stop words generated tokens ['14', 'based', 'children', 'db', 'ground', 'information', 'inspiration', 'listlessness', 'seal', 'segment'] not in stop_words.\n",
      "  warnings.warn(\n"
     ]
    }
   ],
   "source": [
    "# Create a TfidfVectorizer for parsing/counting words\n",
    "tfidf = TfidfVectorizer(stop_words=stop_words)\n",
    "\n",
    "doc_word_tfidf = tfidf.fit_transform(df02['string_values'])"
   ]
  },
  {
   "cell_type": "code",
   "execution_count": 40,
   "metadata": {},
   "outputs": [
    {
     "data": {
      "text/html": [
       "<div>\n",
       "<style scoped>\n",
       "    .dataframe tbody tr th:only-of-type {\n",
       "        vertical-align: middle;\n",
       "    }\n",
       "\n",
       "    .dataframe tbody tr th {\n",
       "        vertical-align: top;\n",
       "    }\n",
       "\n",
       "    .dataframe thead th {\n",
       "        text-align: right;\n",
       "    }\n",
       "</style>\n",
       "<table border=\"1\" class=\"dataframe\">\n",
       "  <thead>\n",
       "    <tr style=\"text-align: right;\">\n",
       "      <th></th>\n",
       "      <th>aap</th>\n",
       "      <th>abdomen</th>\n",
       "      <th>abdu</th>\n",
       "      <th>abduct</th>\n",
       "      <th>abducted</th>\n",
       "      <th>abducting</th>\n",
       "      <th>abduction</th>\n",
       "      <th>abductor</th>\n",
       "      <th>abgs</th>\n",
       "      <th>ability</th>\n",
       "      <th>...</th>\n",
       "      <th>ysis</th>\n",
       "      <th>ysitis</th>\n",
       "      <th>zealand</th>\n",
       "      <th>zed</th>\n",
       "      <th>zheng</th>\n",
       "      <th>zinc</th>\n",
       "      <th>zone</th>\n",
       "      <th>zoster</th>\n",
       "      <th>zygote</th>\n",
       "      <th>µm</th>\n",
       "    </tr>\n",
       "    <tr>\n",
       "      <th>Ch_No</th>\n",
       "      <th></th>\n",
       "      <th></th>\n",
       "      <th></th>\n",
       "      <th></th>\n",
       "      <th></th>\n",
       "      <th></th>\n",
       "      <th></th>\n",
       "      <th></th>\n",
       "      <th></th>\n",
       "      <th></th>\n",
       "      <th></th>\n",
       "      <th></th>\n",
       "      <th></th>\n",
       "      <th></th>\n",
       "      <th></th>\n",
       "      <th></th>\n",
       "      <th></th>\n",
       "      <th></th>\n",
       "      <th></th>\n",
       "      <th></th>\n",
       "      <th></th>\n",
       "    </tr>\n",
       "  </thead>\n",
       "  <tbody>\n",
       "    <tr>\n",
       "      <th>musculoskeletal</th>\n",
       "      <td>0.000000</td>\n",
       "      <td>0.003041</td>\n",
       "      <td>0.003999</td>\n",
       "      <td>0.007997</td>\n",
       "      <td>0.006082</td>\n",
       "      <td>0.007997</td>\n",
       "      <td>0.039987</td>\n",
       "      <td>0.003999</td>\n",
       "      <td>0.000000</td>\n",
       "      <td>0.004723</td>\n",
       "      <td>...</td>\n",
       "      <td>0.003041</td>\n",
       "      <td>0.003999</td>\n",
       "      <td>0.003041</td>\n",
       "      <td>0.000000</td>\n",
       "      <td>0.000000</td>\n",
       "      <td>0.000000</td>\n",
       "      <td>0.000000</td>\n",
       "      <td>0.000000</td>\n",
       "      <td>0.003999</td>\n",
       "      <td>0.000000</td>\n",
       "    </tr>\n",
       "    <tr>\n",
       "      <th>ear_nose</th>\n",
       "      <td>0.000000</td>\n",
       "      <td>0.000000</td>\n",
       "      <td>0.000000</td>\n",
       "      <td>0.000000</td>\n",
       "      <td>0.003177</td>\n",
       "      <td>0.000000</td>\n",
       "      <td>0.000000</td>\n",
       "      <td>0.000000</td>\n",
       "      <td>0.000000</td>\n",
       "      <td>0.004934</td>\n",
       "      <td>...</td>\n",
       "      <td>0.003177</td>\n",
       "      <td>0.000000</td>\n",
       "      <td>0.000000</td>\n",
       "      <td>0.003177</td>\n",
       "      <td>0.000000</td>\n",
       "      <td>0.000000</td>\n",
       "      <td>0.000000</td>\n",
       "      <td>0.004177</td>\n",
       "      <td>0.000000</td>\n",
       "      <td>0.000000</td>\n",
       "    </tr>\n",
       "    <tr>\n",
       "      <th>respiratory</th>\n",
       "      <td>0.004634</td>\n",
       "      <td>0.003525</td>\n",
       "      <td>0.000000</td>\n",
       "      <td>0.000000</td>\n",
       "      <td>0.000000</td>\n",
       "      <td>0.000000</td>\n",
       "      <td>0.000000</td>\n",
       "      <td>0.000000</td>\n",
       "      <td>0.004634</td>\n",
       "      <td>0.013686</td>\n",
       "      <td>...</td>\n",
       "      <td>0.000000</td>\n",
       "      <td>0.000000</td>\n",
       "      <td>0.003525</td>\n",
       "      <td>0.003525</td>\n",
       "      <td>0.004634</td>\n",
       "      <td>0.004634</td>\n",
       "      <td>0.027807</td>\n",
       "      <td>0.000000</td>\n",
       "      <td>0.000000</td>\n",
       "      <td>0.023172</td>\n",
       "    </tr>\n",
       "  </tbody>\n",
       "</table>\n",
       "<p>3 rows × 5834 columns</p>\n",
       "</div>"
      ],
      "text/plain": [
       "                      aap   abdomen      abdu    abduct  abducted  abducting  \\\n",
       "Ch_No                                                                          \n",
       "musculoskeletal  0.000000  0.003041  0.003999  0.007997  0.006082   0.007997   \n",
       "ear_nose         0.000000  0.000000  0.000000  0.000000  0.003177   0.000000   \n",
       "respiratory      0.004634  0.003525  0.000000  0.000000  0.000000   0.000000   \n",
       "\n",
       "                 abduction  abductor      abgs   ability  ...      ysis  \\\n",
       "Ch_No                                                     ...             \n",
       "musculoskeletal   0.039987  0.003999  0.000000  0.004723  ...  0.003041   \n",
       "ear_nose          0.000000  0.000000  0.000000  0.004934  ...  0.003177   \n",
       "respiratory       0.000000  0.000000  0.004634  0.013686  ...  0.000000   \n",
       "\n",
       "                   ysitis   zealand       zed     zheng      zinc      zone  \\\n",
       "Ch_No                                                                         \n",
       "musculoskeletal  0.003999  0.003041  0.000000  0.000000  0.000000  0.000000   \n",
       "ear_nose         0.000000  0.000000  0.003177  0.000000  0.000000  0.000000   \n",
       "respiratory      0.000000  0.003525  0.003525  0.004634  0.004634  0.027807   \n",
       "\n",
       "                   zoster    zygote        µm  \n",
       "Ch_No                                          \n",
       "musculoskeletal  0.000000  0.003999  0.000000  \n",
       "ear_nose         0.004177  0.000000  0.000000  \n",
       "respiratory      0.000000  0.000000  0.023172  \n",
       "\n",
       "[3 rows x 5834 columns]"
      ]
     },
     "execution_count": 40,
     "metadata": {},
     "output_type": "execute_result"
    }
   ],
   "source": [
    "pd.DataFrame(doc_word_tfidf.toarray(), index=df02['Ch_No'], columns = tfidf.get_feature_names_out()).head()"
   ]
  },
  {
   "cell_type": "markdown",
   "metadata": {},
   "source": [
    "### Topic Modeling: **LDA**"
   ]
  },
  {
   "cell_type": "code",
   "execution_count": 41,
   "metadata": {},
   "outputs": [],
   "source": [
    "# Convert sparse matrix of counts to a gensim corpus\n",
    "corpus = matutils.Sparse2Corpus(doc_word_cv)"
   ]
  },
  {
   "cell_type": "code",
   "execution_count": 42,
   "metadata": {},
   "outputs": [],
   "source": [
    "id2word = dict((v, k) for k, v in count_vectorizer.vocabulary_.items())"
   ]
  },
  {
   "cell_type": "code",
   "execution_count": 43,
   "metadata": {},
   "outputs": [],
   "source": [
    "# Create lda model (equivalent to \"fit\" in sklearn)\n",
    "lda = models.LdaModel(corpus=corpus, num_topics=3, id2word=id2word, passes=5)"
   ]
  },
  {
   "cell_type": "code",
   "execution_count": 44,
   "metadata": {},
   "outputs": [
    {
     "data": {
      "text/plain": [
       "[(0,\n",
       "  '0.478*\"aap\" + 0.375*\"abdomen\" + 0.034*\"abdu\" + 0.000*\"pencil\" + 0.000*\"pelvis\" + 0.000*\"pen\" + 0.000*\"peer\" + 0.000*\"penetrate\" + 0.000*\"penicillamine\" + 0.000*\"penetrating\"'),\n",
       " (1,\n",
       "  '0.000*\"abdu\" + 0.000*\"aap\" + 0.000*\"abdomen\" + 0.000*\"pencil\" + 0.000*\"pelvis\" + 0.000*\"pen\" + 0.000*\"peer\" + 0.000*\"penetrate\" + 0.000*\"penicillamine\" + 0.000*\"penetrating\"'),\n",
       " (2,\n",
       "  '0.811*\"abdu\" + 0.001*\"abdomen\" + 0.000*\"aap\" + 0.000*\"pencil\" + 0.000*\"pelvis\" + 0.000*\"pen\" + 0.000*\"peer\" + 0.000*\"penetrate\" + 0.000*\"penicillamine\" + 0.000*\"penetrating\"')]"
      ]
     },
     "execution_count": 44,
     "metadata": {},
     "output_type": "execute_result"
    }
   ],
   "source": [
    "lda.print_topics(3)"
   ]
  },
  {
   "cell_type": "markdown",
   "metadata": {},
   "source": []
  },
  {
   "cell_type": "markdown",
   "metadata": {},
   "source": [
    "### Performing CorEx:"
   ]
  },
  {
   "cell_type": "code",
   "execution_count": 45,
   "metadata": {},
   "outputs": [],
   "source": [
    "from corextopic import corextopic as ct\n",
    "from corextopic import vis_topic as vt\n",
    "\n",
    "words = list(np.asarray(count_vectorizer.get_feature_names_out()))\n"
   ]
  },
  {
   "cell_type": "code",
   "execution_count": 46,
   "metadata": {},
   "outputs": [
    {
     "name": "stdout",
     "output_type": "stream",
     "text": [
      "WARNING: Some words never appear (or always appear)\n"
     ]
    },
    {
     "data": {
      "text/plain": [
       "<corextopic.corextopic.Corex at 0x1ceea783290>"
      ]
     },
     "execution_count": 46,
     "metadata": {},
     "output_type": "execute_result"
    }
   ],
   "source": [
    "topic_model = ct.Corex(n_hidden=3, words=words, seed=1)\n",
    "topic_model.fit(doc_word_cv, words=words, docs=df02['string_values'])"
   ]
  },
  {
   "cell_type": "code",
   "execution_count": 47,
   "metadata": {},
   "outputs": [
    {
     "name": "stdout",
     "output_type": "stream",
     "text": [
      "0: aap,nting,november,notype,notoriety,noting,normalized,normalize,norma,norm\n",
      "1: abdu,nonunion,nonstriated,nne,ninety,neus,neurolysis,neurolog,neurog,nephrolithiasis\n",
      "2: lamb,nasopharyngoscopy,nasopharyngoscop,nasopharyngitis,nasendoscopy,naris,nant,ménière,ménièr,myringotomy\n"
     ]
    }
   ],
   "source": [
    "topics = topic_model.get_topics()\n",
    "for n,topic in enumerate(topics):\n",
    "    topic_words,_,_ = zip(*topic)\n",
    "    print('{}: '.format(n) + ','.join(topic_words))"
   ]
  },
  {
   "cell_type": "markdown",
   "metadata": {},
   "source": [
    "### Topic Modeling: LSA"
   ]
  },
  {
   "cell_type": "code",
   "execution_count": 48,
   "metadata": {},
   "outputs": [
    {
     "name": "stdout",
     "output_type": "stream",
     "text": [
      "[0.04294863 0.54253613 0.41451524]\n"
     ]
    }
   ],
   "source": [
    "lsa = TruncatedSVD(3)\n",
    "doc_topic = lsa.fit_transform(doc_word_cv)\n",
    "print(lsa.explained_variance_ratio_)"
   ]
  },
  {
   "cell_type": "code",
   "execution_count": 49,
   "metadata": {},
   "outputs": [
    {
     "name": "stdout",
     "output_type": "stream",
     "text": [
      "              aap  abdomen   abdu  abduct  abducted  abducting  abduction  \\\n",
      "component0  0.001    0.003  0.002   0.004     0.005      0.004      0.018   \n",
      "component1  0.001   -0.002 -0.002  -0.005    -0.002     -0.005     -0.023   \n",
      "component2  0.003    0.003 -0.001  -0.002    -0.003     -0.002     -0.009   \n",
      "\n",
      "            abductor   abgs  ability  ...   ysis  ysitis  zealand    zed  \\\n",
      "component0     0.002  0.001    0.012  ...  0.003   0.002    0.003  0.002   \n",
      "component1    -0.002  0.001    0.003  ...  0.000  -0.002   -0.002  0.003   \n",
      "component2    -0.001  0.003    0.013  ... -0.002  -0.001    0.003  0.002   \n",
      "\n",
      "            zheng   zinc   zone  zoster  zygote     µm  \n",
      "component0  0.001  0.001  0.006   0.001   0.002  0.005  \n",
      "component1  0.001  0.001  0.003   0.003  -0.002  0.003  \n",
      "component2  0.003  0.003  0.021  -0.002  -0.001  0.017  \n",
      "\n",
      "[3 rows x 5834 columns]\n"
     ]
    }
   ],
   "source": [
    "topic_word = pd.DataFrame(lsa.components_.round(3),\n",
    "             index = ['component'+str(i) for i in range(3)],\n",
    "             columns = count_vectorizer.get_feature_names_out())\n",
    "\n",
    "print(topic_word)"
   ]
  },
  {
   "cell_type": "code",
   "execution_count": 50,
   "metadata": {},
   "outputs": [],
   "source": [
    "tem_list = [] \n",
    "def display_topics(model, feature_names, no_top_words, topic_names=None):\n",
    "    \n",
    "    for ix, topic in enumerate(model.components_):\n",
    "        inner_tem_list = []\n",
    "       \n",
    "        if not topic_names or not topic_names[ix]:\n",
    "            print(\"\\nTopic \", ix)\n",
    "        else:\n",
    "            print(\"\\nTopic: '\",topic_names[ix],\"'\")\n",
    "            \n",
    "        print(\", \".join([feature_names[i]\n",
    "                        for i in topic.argsort()[:-no_top_words - 1:-1]]))\n",
    "        inner_tem_list.append(\", \".join([feature_names[i] for i in topic.argsort()[:-no_top_words - 1:-1]]))\n",
    "        tem_list.append(inner_tem_list)"
   ]
  },
  {
   "cell_type": "code",
   "execution_count": 51,
   "metadata": {},
   "outputs": [
    {
     "name": "stdout",
     "output_type": "stream",
     "text": [
      "\n",
      "Topic  0\n",
      "bone, muscle, ear, otitis, hearing, airway, membrane, sur, bleeding, deformity, hip, oxygen, ventilation, obstruction, gery, cord, brace, attack, breathing, traction\n",
      "\n",
      "Topic  1\n",
      "ear, otitis, hearing, bleeding, sinusitis, nose, externa, membrane, obstruction, airway, sinus, septum, cord, polyp, voice, speech, mouth, packing, breathing, tumor\n",
      "\n",
      "Topic  2\n",
      "ventilation, oxygen, airway, dyspnea, copd, breathing, acidosis, hg, crackle, artery, bronchiectasis, silicosis, cwp, inspiration, collapse, distress, ph, croup, well, exertion\n"
     ]
    }
   ],
   "source": [
    "result1 = display_topics(lsa, count_vectorizer.get_feature_names_out(), 20)"
   ]
  },
  {
   "cell_type": "code",
   "execution_count": 52,
   "metadata": {},
   "outputs": [],
   "source": [
    "tem_list\n",
    "final_dic = {}\n",
    "final_dic[\"Bone\"] = tem_list[0]\n",
    "final_dic[\"Ear\"] = tem_list[1]\n",
    "final_dic[\"Breathing\"] = tem_list[2]"
   ]
  },
  {
   "cell_type": "code",
   "execution_count": 53,
   "metadata": {},
   "outputs": [
    {
     "data": {
      "text/plain": [
       "{'Bone': ['bone, muscle, ear, otitis, hearing, airway, membrane, sur, bleeding, deformity, hip, oxygen, ventilation, obstruction, gery, cord, brace, attack, breathing, traction'],\n",
       " 'Ear': ['ear, otitis, hearing, bleeding, sinusitis, nose, externa, membrane, obstruction, airway, sinus, septum, cord, polyp, voice, speech, mouth, packing, breathing, tumor'],\n",
       " 'Breathing': ['ventilation, oxygen, airway, dyspnea, copd, breathing, acidosis, hg, crackle, artery, bronchiectasis, silicosis, cwp, inspiration, collapse, distress, ph, croup, well, exertion']}"
      ]
     },
     "execution_count": 53,
     "metadata": {},
     "output_type": "execute_result"
    }
   ],
   "source": [
    "final_dic"
   ]
  },
  {
   "cell_type": "code",
   "execution_count": 54,
   "metadata": {},
   "outputs": [
    {
     "data": {
      "text/html": [
       "<div>\n",
       "<style scoped>\n",
       "    .dataframe tbody tr th:only-of-type {\n",
       "        vertical-align: middle;\n",
       "    }\n",
       "\n",
       "    .dataframe tbody tr th {\n",
       "        vertical-align: top;\n",
       "    }\n",
       "\n",
       "    .dataframe thead th {\n",
       "        text-align: right;\n",
       "    }\n",
       "</style>\n",
       "<table border=\"1\" class=\"dataframe\">\n",
       "  <thead>\n",
       "    <tr style=\"text-align: right;\">\n",
       "      <th></th>\n",
       "      <th>0</th>\n",
       "    </tr>\n",
       "  </thead>\n",
       "  <tbody>\n",
       "    <tr>\n",
       "      <th>Bone</th>\n",
       "      <td>bone, muscle, ear, otitis, hearing, airway, me...</td>\n",
       "    </tr>\n",
       "    <tr>\n",
       "      <th>Ear</th>\n",
       "      <td>ear, otitis, hearing, bleeding, sinusitis, nos...</td>\n",
       "    </tr>\n",
       "    <tr>\n",
       "      <th>Breathing</th>\n",
       "      <td>ventilation, oxygen, airway, dyspnea, copd, br...</td>\n",
       "    </tr>\n",
       "  </tbody>\n",
       "</table>\n",
       "</div>"
      ],
      "text/plain": [
       "                                                           0\n",
       "Bone       bone, muscle, ear, otitis, hearing, airway, me...\n",
       "Ear        ear, otitis, hearing, bleeding, sinusitis, nos...\n",
       "Breathing  ventilation, oxygen, airway, dyspnea, copd, br..."
      ]
     },
     "execution_count": 54,
     "metadata": {},
     "output_type": "execute_result"
    }
   ],
   "source": [
    "tem_df = pd.DataFrame.from_dict(final_dic, orient ='index') \n",
    "tem_df"
   ]
  },
  {
   "cell_type": "code",
   "execution_count": 55,
   "metadata": {},
   "outputs": [],
   "source": [
    "# Declare a list that is to be converted into a column\n",
    "d_name = ['musculoskeletal', 'ear_nose', 'respiratory']\n",
    " \n",
    "# Using 'ch_no' as the column name\n",
    "# and equating it to the list\n",
    "tem_df['D_Name'] = d_name"
   ]
  },
  {
   "cell_type": "code",
   "execution_count": 56,
   "metadata": {},
   "outputs": [
    {
     "data": {
      "text/plain": [
       "Index([0, 'D_Name'], dtype='object')"
      ]
     },
     "execution_count": 56,
     "metadata": {},
     "output_type": "execute_result"
    }
   ],
   "source": [
    "tem_df.columns"
   ]
  },
  {
   "cell_type": "code",
   "execution_count": 57,
   "metadata": {},
   "outputs": [
    {
     "data": {
      "text/html": [
       "<div>\n",
       "<style scoped>\n",
       "    .dataframe tbody tr th:only-of-type {\n",
       "        vertical-align: middle;\n",
       "    }\n",
       "\n",
       "    .dataframe tbody tr th {\n",
       "        vertical-align: top;\n",
       "    }\n",
       "\n",
       "    .dataframe thead th {\n",
       "        text-align: right;\n",
       "    }\n",
       "</style>\n",
       "<table border=\"1\" class=\"dataframe\">\n",
       "  <thead>\n",
       "    <tr style=\"text-align: right;\">\n",
       "      <th></th>\n",
       "      <th>Description</th>\n",
       "      <th>D_Name</th>\n",
       "    </tr>\n",
       "  </thead>\n",
       "  <tbody>\n",
       "    <tr>\n",
       "      <th>Bone</th>\n",
       "      <td>bone, muscle, ear, otitis, hearing, airway, me...</td>\n",
       "      <td>musculoskeletal</td>\n",
       "    </tr>\n",
       "    <tr>\n",
       "      <th>Ear</th>\n",
       "      <td>ear, otitis, hearing, bleeding, sinusitis, nos...</td>\n",
       "      <td>ear_nose</td>\n",
       "    </tr>\n",
       "    <tr>\n",
       "      <th>Breathing</th>\n",
       "      <td>ventilation, oxygen, airway, dyspnea, copd, br...</td>\n",
       "      <td>respiratory</td>\n",
       "    </tr>\n",
       "  </tbody>\n",
       "</table>\n",
       "</div>"
      ],
      "text/plain": [
       "                                                 Description           D_Name\n",
       "Bone       bone, muscle, ear, otitis, hearing, airway, me...  musculoskeletal\n",
       "Ear        ear, otitis, hearing, bleeding, sinusitis, nos...         ear_nose\n",
       "Breathing  ventilation, oxygen, airway, dyspnea, copd, br...      respiratory"
      ]
     },
     "execution_count": 57,
     "metadata": {},
     "output_type": "execute_result"
    }
   ],
   "source": [
    "tem_df = tem_df.rename(columns={0: 'Description'})\n",
    "tem_df"
   ]
  },
  {
   "cell_type": "code",
   "execution_count": 58,
   "metadata": {},
   "outputs": [],
   "source": [
    "tem_df.to_csv('diseases_with_description.csv', index=False)"
   ]
  },
  {
   "cell_type": "code",
   "execution_count": null,
   "metadata": {},
   "outputs": [],
   "source": []
  }
 ],
 "metadata": {
  "interpreter": {
   "hash": "e20053a6a21f60b20031b0e753dd017cb749c39f38e8781debb23d87a774e1c7"
  },
  "kernelspec": {
   "display_name": "Python 3.9.2 64-bit ('.venv': venv)",
   "language": "python",
   "name": "python3"
  },
  "language_info": {
   "codemirror_mode": {
    "name": "ipython",
    "version": 3
   },
   "file_extension": ".py",
   "mimetype": "text/x-python",
   "name": "python",
   "nbconvert_exporter": "python",
   "pygments_lexer": "ipython3",
   "version": "3.11.9"
  },
  "orig_nbformat": 4
 },
 "nbformat": 4,
 "nbformat_minor": 2
}
